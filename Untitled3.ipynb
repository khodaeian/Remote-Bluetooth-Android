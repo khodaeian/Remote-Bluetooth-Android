{
  "nbformat": 4,
  "nbformat_minor": 0,
  "metadata": {
    "colab": {
      "provenance": [],
      "authorship_tag": "ABX9TyOoriI37UWt/VeUadfzCVU4",
      "include_colab_link": true
    },
    "kernelspec": {
      "name": "python3",
      "display_name": "Python 3"
    },
    "language_info": {
      "name": "python"
    }
  },
  "cells": [
    {
      "cell_type": "markdown",
      "metadata": {
        "id": "view-in-github",
        "colab_type": "text"
      },
      "source": [
        "<a href=\"https://colab.research.google.com/github/khodaeian/Remote-Bluetooth-Android/blob/master/Untitled3.ipynb\" target=\"_parent\"><img src=\"https://colab.research.google.com/assets/colab-badge.svg\" alt=\"Open In Colab\"/></a>"
      ]
    },
    {
      "cell_type": "code",
      "execution_count": 1,
      "metadata": {
        "colab": {
          "base_uri": "https://localhost:8080/"
        },
        "id": "oy9ECktAYxDd",
        "outputId": "f3ffc144-65cb-4e79-e4de-d42559636fe3"
      },
      "outputs": [
        {
          "output_type": "stream",
          "name": "stdout",
          "text": [
            "♜♞♝♛♚♝♞♜\n",
            "♟♟♟♟♟♟♟♟\n"
          ]
        }
      ],
      "source": [
        "\n",
        "x = \"\".join([chr(0x265a+n) for n in [2,4,3,1,0,3,4,2]])\n",
        "print(x + \"\\n\" + chr(0x265f)*8)"
      ]
    }
  ]
}